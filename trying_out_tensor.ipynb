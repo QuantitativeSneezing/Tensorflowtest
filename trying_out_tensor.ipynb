{
  "nbformat": 4,
  "nbformat_minor": 0,
  "metadata": {
    "colab": {
      "provenance": [],
      "authorship_tag": "ABX9TyPfktIPattJMY5ZZ9tod8kb",
      "include_colab_link": true
    },
    "kernelspec": {
      "name": "python3",
      "display_name": "Python 3"
    },
    "language_info": {
      "name": "python"
    }
  },
  "cells": [
    {
      "cell_type": "markdown",
      "metadata": {
        "id": "view-in-github",
        "colab_type": "text"
      },
      "source": [
        "<a href=\"https://colab.research.google.com/github/QuantitativeSneezing/Tensorflowtest/blob/main/trying_out_tensor.ipynb\" target=\"_parent\"><img src=\"https://colab.research.google.com/assets/colab-badge.svg\" alt=\"Open In Colab\"/></a>"
      ]
    },
    {
      "cell_type": "code",
      "execution_count": 1,
      "metadata": {
        "id": "o2s9jfd3YOHt",
        "colab": {
          "base_uri": "https://localhost:8080/"
        },
        "outputId": "9931592d-1a30-4b69-dc59-29d0c8a76f3b"
      },
      "outputs": [
        {
          "output_type": "stream",
          "name": "stdout",
          "text": [
            "TensorFlow version: 2.12.0\n",
            "Downloading data from https://storage.googleapis.com/tensorflow/tf-keras-datasets/mnist.npz\n",
            "11490434/11490434 [==============================] - 0s 0us/step\n",
            "Epoch 1/5\n",
            "1875/1875 [==============================] - 20s 9ms/step - loss: 0.2537 - accuracy: 0.9247\n",
            "Epoch 2/5\n",
            "1875/1875 [==============================] - 10s 5ms/step - loss: 0.1090 - accuracy: 0.9673\n",
            "Epoch 3/5\n",
            "1875/1875 [==============================] - 10s 5ms/step - loss: 0.0763 - accuracy: 0.9766\n",
            "Epoch 4/5\n",
            "1875/1875 [==============================] - 9s 5ms/step - loss: 0.0604 - accuracy: 0.9808\n",
            "Epoch 5/5\n",
            "1875/1875 [==============================] - 9s 5ms/step - loss: 0.0478 - accuracy: 0.9845\n",
            "313/313 - 1s - loss: 0.0760 - accuracy: 0.9764 - 659ms/epoch - 2ms/step\n"
          ]
        },
        {
          "output_type": "execute_result",
          "data": {
            "text/plain": [
              "<tf.Tensor: shape=(5, 10), dtype=float32, numpy=\n",
              "array([[1.1281633e-07, 1.0283243e-06, 9.8231729e-05, 1.9101921e-04,\n",
              "        1.8016801e-10, 2.6483436e-08, 4.3319234e-11, 9.9970490e-01,\n",
              "        4.4779608e-06, 1.2733757e-07],\n",
              "       [2.5874964e-09, 1.9056282e-08, 9.9999464e-01, 5.3192916e-06,\n",
              "        1.5597865e-13, 1.9555909e-12, 1.6470680e-12, 4.5142881e-09,\n",
              "        2.1542462e-08, 3.1070022e-14],\n",
              "       [9.0675925e-08, 9.9870849e-01, 3.0033370e-05, 6.1329597e-06,\n",
              "        2.3399240e-04, 1.6308397e-05, 6.0109151e-06, 5.6485366e-04,\n",
              "        4.3041317e-04, 3.6851648e-06],\n",
              "       [9.9993348e-01, 7.7465856e-09, 2.2569990e-05, 3.9772664e-07,\n",
              "        1.6618507e-06, 1.7627187e-06, 3.1653821e-05, 3.8135502e-07,\n",
              "        1.5253402e-06, 6.6359630e-06],\n",
              "       [8.8553300e-08, 6.1695454e-07, 3.7122796e-08, 1.6552083e-10,\n",
              "        9.9980062e-01, 6.2874039e-10, 1.1138193e-07, 6.8542687e-07,\n",
              "        3.1940522e-07, 1.9755974e-04]], dtype=float32)>"
            ]
          },
          "metadata": {},
          "execution_count": 1
        }
      ],
      "source": [
        "import tensorflow as tf\n",
        "print(\"TensorFlow version:\", tf.__version__)\n",
        "mnist = tf.keras.datasets.mnist\n",
        "\n",
        "(x_train, y_train), (x_test, y_test) = mnist.load_data()\n",
        "x_train, x_test = x_train / 255.0, x_test / 255.0\n",
        "\n",
        "model = tf.keras.models.Sequential([\n",
        "  tf.keras.layers.Flatten(input_shape=(28, 28)),\n",
        "  tf.keras.layers.Dense(128, activation='relu'),\n",
        "  tf.keras.layers.Dense(128, activation='relu'),\n",
        "  tf.keras.layers.Dropout(0.2),\n",
        "  tf.keras.layers.Dense(10)\n",
        "])\n",
        "predictions = model(x_train[:1]).numpy()\n",
        "predictions\n",
        "tf.nn.softmax(predictions).numpy()\n",
        "loss_fn = tf.keras.losses.SparseCategoricalCrossentropy(from_logits=True)\n",
        "loss_fn(y_train[:1], predictions).numpy()\n",
        "model.compile(optimizer='adam',\n",
        "              loss=loss_fn,\n",
        "              metrics=['accuracy'])\n",
        "model.fit(x_train, y_train, epochs=5)\n",
        "model.evaluate(x_test,  y_test, verbose=2)\n",
        "probability_model = tf.keras.Sequential([\n",
        "  model,\n",
        "  tf.keras.layers.Softmax()\n",
        "])\n",
        "probability_model(x_test[:5])"
      ]
    }
  ]
}